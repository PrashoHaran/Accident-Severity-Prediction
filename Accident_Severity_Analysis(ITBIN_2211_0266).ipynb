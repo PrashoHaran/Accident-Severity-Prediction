{
  "cells": [
    {
      "cell_type": "markdown",
      "metadata": {
        "id": "pCdJdXAAdVYI"
      },
      "source": [
        "# Project Title - AI-Driven Road Accident Detection and Severity Prediction with Geo-Temporal Intelligence\n"
      ]
    },
    {
      "cell_type": "markdown",
      "metadata": {
        "id": "Q1JZfdrKM0c9"
      },
      "source": [
        "# 1. Identifying the Problem"
      ]
    },
    {
      "cell_type": "markdown",
      "metadata": {
        "id": "fKgoijQFNAxp"
      },
      "source": [
        "Road accidents are a significant cause of injury and death globally. In many cases, emergency responders reach accident sites without knowing the severity of the incident, which delays timely medical intervention. Currently, there is no automated system to estimate accident severity using historical data. This project aims to develop a machine learning model to predict the severity level of road accidents using structured data such as time, weather, road type, and location. The goal is to support faster emergency response and proactive planning through severity prediction and geo-temporal analysis."
      ]
    },
    {
      "cell_type": "markdown",
      "metadata": {
        "id": "2rZ6_ZTrNNNC"
      },
      "source": [
        "# 2. Data Understanding"
      ]
    },
    {
      "cell_type": "code",
      "execution_count": 2,
      "metadata": {
        "id": "nZbKdvYqNsIy"
      },
      "outputs": [],
      "source": [
        "import pandas as pd\n",
        "import numpy as np\n",
        "import seaborn as sns\n",
        "import matplotlib.pyplot as plt\n",
        "from scipy import stats"
      ]
    },
    {
      "cell_type": "code",
      "execution_count": 3,
      "metadata": {
        "id": "4k2OJ4eYRDNZ"
      },
      "outputs": [],
      "source": [
        "# Load the dataset\n",
        "df = pd.read_csv(r'D:\\Horizon\\Semester 6\\Nature Inspired Algorithm\\Accident Detection and Severity Prediction\\cleaned_accident_data_SL.csv')"
      ]
    },
    {
      "cell_type": "code",
      "execution_count": 4,
      "metadata": {
        "colab": {
          "base_uri": "https://localhost:8080/",
          "height": 446
        },
        "id": "vR_fw3EHRmSa",
        "outputId": "f8ba7267-8efd-4956-9e23-8a66758af141"
      },
      "outputs": [
        {
          "name": "stdout",
          "output_type": "stream",
          "text": [
            "Shape of dataset: (10000, 40)\n"
          ]
        },
        {
          "data": {
            "text/html": [
              "<div>\n",
              "<style scoped>\n",
              "    .dataframe tbody tr th:only-of-type {\n",
              "        vertical-align: middle;\n",
              "    }\n",
              "\n",
              "    .dataframe tbody tr th {\n",
              "        vertical-align: top;\n",
              "    }\n",
              "\n",
              "    .dataframe thead th {\n",
              "        text-align: right;\n",
              "    }\n",
              "</style>\n",
              "<table border=\"1\" class=\"dataframe\">\n",
              "  <thead>\n",
              "    <tr style=\"text-align: right;\">\n",
              "      <th></th>\n",
              "      <th>Severity</th>\n",
              "      <th>Start_Time</th>\n",
              "      <th>Start_Lat</th>\n",
              "      <th>Start_Lng</th>\n",
              "      <th>Distance(mi)</th>\n",
              "      <th>Weather_Timestamp</th>\n",
              "      <th>Temperature(F)</th>\n",
              "      <th>Wind_Chill(F)</th>\n",
              "      <th>Humidity(%)</th>\n",
              "      <th>Pressure(in)</th>\n",
              "      <th>...</th>\n",
              "      <th>Nautical_Twilight</th>\n",
              "      <th>Astronomical_Twilight</th>\n",
              "      <th>Temp_Binned</th>\n",
              "      <th>Hour</th>\n",
              "      <th>Weekday</th>\n",
              "      <th>Is_Weekend</th>\n",
              "      <th>Rush_Hour_SL</th>\n",
              "      <th>Time_Category_SL</th>\n",
              "      <th>Road_Type_SL</th>\n",
              "      <th>Weather_Category_SL</th>\n",
              "    </tr>\n",
              "  </thead>\n",
              "  <tbody>\n",
              "    <tr>\n",
              "      <th>0</th>\n",
              "      <td>3</td>\n",
              "      <td>2016-02-08 05:46:00</td>\n",
              "      <td>39.865147</td>\n",
              "      <td>-84.058723</td>\n",
              "      <td>0.01</td>\n",
              "      <td>2016-02-08 05:58:00</td>\n",
              "      <td>0.323213</td>\n",
              "      <td>36.4</td>\n",
              "      <td>0.902174</td>\n",
              "      <td>0.965954</td>\n",
              "      <td>...</td>\n",
              "      <td>Night</td>\n",
              "      <td>Night</td>\n",
              "      <td>Very Cold</td>\n",
              "      <td>5</td>\n",
              "      <td>0</td>\n",
              "      <td>0</td>\n",
              "      <td>0</td>\n",
              "      <td>Night</td>\n",
              "      <td>Urban</td>\n",
              "      <td>Rain</td>\n",
              "    </tr>\n",
              "    <tr>\n",
              "      <th>1</th>\n",
              "      <td>2</td>\n",
              "      <td>2016-02-08 06:07:59</td>\n",
              "      <td>39.928059</td>\n",
              "      <td>-82.831184</td>\n",
              "      <td>0.01</td>\n",
              "      <td>2016-02-08 05:51:00</td>\n",
              "      <td>0.333007</td>\n",
              "      <td>36.4</td>\n",
              "      <td>1.000000</td>\n",
              "      <td>0.964868</td>\n",
              "      <td>...</td>\n",
              "      <td>Night</td>\n",
              "      <td>Day</td>\n",
              "      <td>Very Cold</td>\n",
              "      <td>6</td>\n",
              "      <td>0</td>\n",
              "      <td>0</td>\n",
              "      <td>1</td>\n",
              "      <td>Night</td>\n",
              "      <td>Urban</td>\n",
              "      <td>Rain</td>\n",
              "    </tr>\n",
              "    <tr>\n",
              "      <th>2</th>\n",
              "      <td>2</td>\n",
              "      <td>2016-02-08 06:49:27</td>\n",
              "      <td>39.063148</td>\n",
              "      <td>-84.032608</td>\n",
              "      <td>0.01</td>\n",
              "      <td>2016-02-08 06:56:00</td>\n",
              "      <td>0.314398</td>\n",
              "      <td>33.3</td>\n",
              "      <td>1.000000</td>\n",
              "      <td>0.965592</td>\n",
              "      <td>...</td>\n",
              "      <td>Day</td>\n",
              "      <td>Day</td>\n",
              "      <td>Very Cold</td>\n",
              "      <td>6</td>\n",
              "      <td>0</td>\n",
              "      <td>0</td>\n",
              "      <td>1</td>\n",
              "      <td>Night</td>\n",
              "      <td>Urban</td>\n",
              "      <td>Other</td>\n",
              "    </tr>\n",
              "    <tr>\n",
              "      <th>3</th>\n",
              "      <td>3</td>\n",
              "      <td>2016-02-08 07:23:34</td>\n",
              "      <td>39.747753</td>\n",
              "      <td>-84.205582</td>\n",
              "      <td>0.01</td>\n",
              "      <td>2016-02-08 07:38:00</td>\n",
              "      <td>0.305583</td>\n",
              "      <td>31.0</td>\n",
              "      <td>0.956522</td>\n",
              "      <td>0.964506</td>\n",
              "      <td>...</td>\n",
              "      <td>Day</td>\n",
              "      <td>Day</td>\n",
              "      <td>Very Cold</td>\n",
              "      <td>7</td>\n",
              "      <td>0</td>\n",
              "      <td>0</td>\n",
              "      <td>1</td>\n",
              "      <td>Morning</td>\n",
              "      <td>Urban</td>\n",
              "      <td>Cloudy</td>\n",
              "    </tr>\n",
              "    <tr>\n",
              "      <th>4</th>\n",
              "      <td>2</td>\n",
              "      <td>2016-02-08 07:39:07</td>\n",
              "      <td>39.627781</td>\n",
              "      <td>-84.188354</td>\n",
              "      <td>0.01</td>\n",
              "      <td>2016-02-08 07:53:00</td>\n",
              "      <td>0.314398</td>\n",
              "      <td>33.3</td>\n",
              "      <td>0.880435</td>\n",
              "      <td>0.964868</td>\n",
              "      <td>...</td>\n",
              "      <td>Day</td>\n",
              "      <td>Day</td>\n",
              "      <td>Very Cold</td>\n",
              "      <td>7</td>\n",
              "      <td>0</td>\n",
              "      <td>0</td>\n",
              "      <td>1</td>\n",
              "      <td>Morning</td>\n",
              "      <td>Urban</td>\n",
              "      <td>Cloudy</td>\n",
              "    </tr>\n",
              "  </tbody>\n",
              "</table>\n",
              "<p>5 rows × 40 columns</p>\n",
              "</div>"
            ],
            "text/plain": [
              "   Severity           Start_Time  Start_Lat  Start_Lng  Distance(mi)  \\\n",
              "0         3  2016-02-08 05:46:00  39.865147 -84.058723          0.01   \n",
              "1         2  2016-02-08 06:07:59  39.928059 -82.831184          0.01   \n",
              "2         2  2016-02-08 06:49:27  39.063148 -84.032608          0.01   \n",
              "3         3  2016-02-08 07:23:34  39.747753 -84.205582          0.01   \n",
              "4         2  2016-02-08 07:39:07  39.627781 -84.188354          0.01   \n",
              "\n",
              "     Weather_Timestamp  Temperature(F)  Wind_Chill(F)  Humidity(%)  \\\n",
              "0  2016-02-08 05:58:00        0.323213           36.4     0.902174   \n",
              "1  2016-02-08 05:51:00        0.333007           36.4     1.000000   \n",
              "2  2016-02-08 06:56:00        0.314398           33.3     1.000000   \n",
              "3  2016-02-08 07:38:00        0.305583           31.0     0.956522   \n",
              "4  2016-02-08 07:53:00        0.314398           33.3     0.880435   \n",
              "\n",
              "   Pressure(in)  ...  Nautical_Twilight Astronomical_Twilight  Temp_Binned  \\\n",
              "0      0.965954  ...              Night                 Night    Very Cold   \n",
              "1      0.964868  ...              Night                   Day    Very Cold   \n",
              "2      0.965592  ...                Day                   Day    Very Cold   \n",
              "3      0.964506  ...                Day                   Day    Very Cold   \n",
              "4      0.964868  ...                Day                   Day    Very Cold   \n",
              "\n",
              "   Hour Weekday  Is_Weekend  Rush_Hour_SL  Time_Category_SL  Road_Type_SL  \\\n",
              "0     5       0           0             0             Night         Urban   \n",
              "1     6       0           0             1             Night         Urban   \n",
              "2     6       0           0             1             Night         Urban   \n",
              "3     7       0           0             1           Morning         Urban   \n",
              "4     7       0           0             1           Morning         Urban   \n",
              "\n",
              "   Weather_Category_SL  \n",
              "0                 Rain  \n",
              "1                 Rain  \n",
              "2                Other  \n",
              "3               Cloudy  \n",
              "4               Cloudy  \n",
              "\n",
              "[5 rows x 40 columns]"
            ]
          },
          "execution_count": 4,
          "metadata": {},
          "output_type": "execute_result"
        }
      ],
      "source": [
        "# Overview of data\n",
        "print(\"Shape of dataset:\", df.shape)\n",
        "df.head()"
      ]
    },
    {
      "cell_type": "code",
      "execution_count": 5,
      "metadata": {
        "colab": {
          "base_uri": "https://localhost:8080/"
        },
        "id": "u86K3GV9SEHq",
        "outputId": "3db81215-c54c-4700-d865-2fe6706f3641"
      },
      "outputs": [
        {
          "name": "stdout",
          "output_type": "stream",
          "text": [
            "\n",
            "Columns: ['Severity', 'Start_Time', 'Start_Lat', 'Start_Lng', 'Distance(mi)', 'Weather_Timestamp', 'Temperature(F)', 'Wind_Chill(F)', 'Humidity(%)', 'Pressure(in)', 'Visibility(mi)', 'Wind_Direction', 'Wind_Speed(mph)', 'Precipitation(in)', 'Weather_Condition', 'Amenity', 'Bump', 'Crossing', 'Give_Way', 'Junction', 'No_Exit', 'Railway', 'Roundabout', 'Station', 'Stop', 'Traffic_Calming', 'Traffic_Signal', 'Turning_Loop', 'Sunrise_Sunset', 'Civil_Twilight', 'Nautical_Twilight', 'Astronomical_Twilight', 'Temp_Binned', 'Hour', 'Weekday', 'Is_Weekend', 'Rush_Hour_SL', 'Time_Category_SL', 'Road_Type_SL', 'Weather_Category_SL']\n"
          ]
        }
      ],
      "source": [
        "# Column names\n",
        "print(\"\\nColumns:\", df.columns.tolist())"
      ]
    },
    {
      "cell_type": "code",
      "execution_count": 6,
      "metadata": {
        "colab": {
          "base_uri": "https://localhost:8080/"
        },
        "id": "cDD6X15SSJd6",
        "outputId": "984400a4-b064-43ae-ac5c-b2bc2a3cfc87"
      },
      "outputs": [
        {
          "name": "stdout",
          "output_type": "stream",
          "text": [
            "\n",
            "Info:\n",
            "<class 'pandas.core.frame.DataFrame'>\n",
            "RangeIndex: 10000 entries, 0 to 9999\n",
            "Data columns (total 40 columns):\n",
            " #   Column                 Non-Null Count  Dtype  \n",
            "---  ------                 --------------  -----  \n",
            " 0   Severity               10000 non-null  int64  \n",
            " 1   Start_Time             10000 non-null  object \n",
            " 2   Start_Lat              10000 non-null  float64\n",
            " 3   Start_Lng              10000 non-null  float64\n",
            " 4   Distance(mi)           10000 non-null  float64\n",
            " 5   Weather_Timestamp      10000 non-null  object \n",
            " 6   Temperature(F)         10000 non-null  float64\n",
            " 7   Wind_Chill(F)          10000 non-null  float64\n",
            " 8   Humidity(%)            10000 non-null  float64\n",
            " 9   Pressure(in)           10000 non-null  float64\n",
            " 10  Visibility(mi)         10000 non-null  float64\n",
            " 11  Wind_Direction         10000 non-null  object \n",
            " 12  Wind_Speed(mph)        10000 non-null  float64\n",
            " 13  Precipitation(in)      10000 non-null  float64\n",
            " 14  Weather_Condition      10000 non-null  object \n",
            " 15  Amenity                10000 non-null  bool   \n",
            " 16  Bump                   10000 non-null  bool   \n",
            " 17  Crossing               10000 non-null  bool   \n",
            " 18  Give_Way               10000 non-null  bool   \n",
            " 19  Junction               10000 non-null  bool   \n",
            " 20  No_Exit                10000 non-null  bool   \n",
            " 21  Railway                10000 non-null  bool   \n",
            " 22  Roundabout             10000 non-null  bool   \n",
            " 23  Station                10000 non-null  bool   \n",
            " 24  Stop                   10000 non-null  bool   \n",
            " 25  Traffic_Calming        10000 non-null  bool   \n",
            " 26  Traffic_Signal         10000 non-null  bool   \n",
            " 27  Turning_Loop           10000 non-null  bool   \n",
            " 28  Sunrise_Sunset         10000 non-null  object \n",
            " 29  Civil_Twilight         10000 non-null  object \n",
            " 30  Nautical_Twilight      10000 non-null  object \n",
            " 31  Astronomical_Twilight  10000 non-null  object \n",
            " 32  Temp_Binned            10000 non-null  object \n",
            " 33  Hour                   10000 non-null  int64  \n",
            " 34  Weekday                10000 non-null  int64  \n",
            " 35  Is_Weekend             10000 non-null  int64  \n",
            " 36  Rush_Hour_SL           10000 non-null  int64  \n",
            " 37  Time_Category_SL       10000 non-null  object \n",
            " 38  Road_Type_SL           10000 non-null  object \n",
            " 39  Weather_Category_SL    10000 non-null  object \n",
            "dtypes: bool(13), float64(10), int64(5), object(12)\n",
            "memory usage: 2.2+ MB\n"
          ]
        }
      ],
      "source": [
        "# Data types and non-null counts\n",
        "print(\"\\nInfo:\")\n",
        "df.info()"
      ]
    },
    {
      "cell_type": "code",
      "execution_count": 7,
      "metadata": {
        "colab": {
          "base_uri": "https://localhost:8080/"
        },
        "id": "g1JS0SmZSW_a",
        "outputId": "8cafad2a-91d4-412a-ce20-91622dbd187f"
      },
      "outputs": [
        {
          "name": "stdout",
          "output_type": "stream",
          "text": [
            "\n",
            "Descriptive Statistics:\n",
            "          Severity     Start_Lat     Start_Lng  Distance(mi)  Temperature(F)  \\\n",
            "count  10000.00000  10000.000000  10000.000000  10000.000000    10000.000000   \n",
            "mean       2.39470     38.128680   -119.041084      0.021386        0.545752   \n",
            "std        0.49126      0.749559      9.963780      0.397797        0.169412   \n",
            "min        1.00000     36.352592   -123.810753      0.000000        0.000000   \n",
            "25%        2.00000     37.643864   -122.159031      0.000000        0.433888   \n",
            "50%        2.00000     37.959778   -121.875954      0.010000        0.520078   \n",
            "75%        3.00000     38.574538   -121.349976      0.010000        0.658178   \n",
            "max        4.00000     41.428753    -81.550728     24.040000        1.000000   \n",
            "\n",
            "       Wind_Chill(F)   Humidity(%)  Pressure(in)  Visibility(mi)  \\\n",
            "count   10000.000000  10000.000000  10000.000000    10000.000000   \n",
            "mean       35.933150      0.609992      0.977997        0.109332   \n",
            "std         4.052462      0.264405      0.011449        0.032079   \n",
            "min        -8.400000      0.000000      0.000000        0.000000   \n",
            "25%        36.400000      0.423913      0.974285        0.122807   \n",
            "50%        36.400000      0.641304      0.977907        0.122807   \n",
            "75%        36.400000      0.836957      0.981891        0.122807   \n",
            "max        66.000000      1.000000      1.000000        1.000000   \n",
            "\n",
            "       Wind_Speed(mph)  Precipitation(in)          Hour       Weekday  \\\n",
            "count     10000.000000       10000.000000  10000.000000  10000.000000   \n",
            "mean          0.233715           0.011990     13.358300      2.631300   \n",
            "std           0.129663           0.016399      5.904524      1.732992   \n",
            "min           0.000000           0.000000      0.000000      0.000000   \n",
            "25%           0.142857           0.010000      9.000000      1.000000   \n",
            "50%           0.214286           0.010000     14.000000      3.000000   \n",
            "75%           0.285714           0.010000     18.000000      4.000000   \n",
            "max           1.000000           0.490000     23.000000      6.000000   \n",
            "\n",
            "        Is_Weekend  Rush_Hour_SL  \n",
            "count  10000.00000   10000.00000  \n",
            "mean       0.14520       0.36050  \n",
            "std        0.35232       0.48017  \n",
            "min        0.00000       0.00000  \n",
            "25%        0.00000       0.00000  \n",
            "50%        0.00000       0.00000  \n",
            "75%        0.00000       1.00000  \n",
            "max        1.00000       1.00000  \n"
          ]
        }
      ],
      "source": [
        "# Summary statistics\n",
        "print(\"\\nDescriptive Statistics:\")\n",
        "print(df.describe())"
      ]
    },
    {
      "cell_type": "code",
      "execution_count": 8,
      "metadata": {
        "colab": {
          "base_uri": "https://localhost:8080/"
        },
        "id": "HPn3bPtUSe4h",
        "outputId": "e510dad7-c7ee-4cc9-ab5d-c974a38b84c5"
      },
      "outputs": [
        {
          "name": "stdout",
          "output_type": "stream",
          "text": [
            "\n",
            "Missing Values:\n",
            "Severity             0\n",
            "Start_Time           0\n",
            "Start_Lat            0\n",
            "Start_Lng            0\n",
            "Distance(mi)         0\n",
            "Weather_Timestamp    0\n",
            "Temperature(F)       0\n",
            "Wind_Chill(F)        0\n",
            "Humidity(%)          0\n",
            "Pressure(in)         0\n",
            "dtype: int64\n"
          ]
        }
      ],
      "source": [
        "# Check for missing values\n",
        "print(\"\\nMissing Values:\")\n",
        "print(df.isnull().sum().sort_values(ascending=False).head(10))"
      ]
    },
    {
      "cell_type": "code",
      "execution_count": 9,
      "metadata": {
        "colab": {
          "base_uri": "https://localhost:8080/",
          "height": 472
        },
        "id": "XapTi5MCS00Z",
        "outputId": "f58bb2bc-028a-4c36-8b2c-71a78636477c"
      },
      "outputs": [
        {
          "data": {
            "image/png": "[encoded data removed]",
            "text/plain": [
              "<Figure size 640x480 with 1 Axes>"
            ]
          },
          "metadata": {},
          "output_type": "display_data"
        }
      ],
      "source": [
        "# Visualize data: Severity distribution\n",
        "sns.countplot(data=df, x='Severity')\n",
        "plt.title(\"Accident Severity Distribution\")\n",
        "plt.show()"
      ]
    },
    {
      "cell_type": "code",
      "execution_count": 10,
      "metadata": {
        "colab": {
          "base_uri": "https://localhost:8080/",
          "height": 472
        },
        "id": "cZTKvMPbTfui",
        "outputId": "bec129c7-789c-4b29-f5e3-b8d51d014d08"
      },
      "outputs": [
        {
          "data": {
            "image/png": "[encoded data removed]",
            "text/plain": [
              "<Figure size 640x480 with 1 Axes>"
            ]
          },
          "metadata": {},
          "output_type": "display_data"
        }
      ],
      "source": [
        "# Visualize data: Accidents by hour\n",
        "df['Start_Time'] = pd.to_datetime(df['Start_Time'])\n",
        "df['Hour'] = df['Start_Time'].dt.hour\n",
        "sns.histplot(df['Hour'], bins=24, kde=False)\n",
        "plt.title(\"Accidents by Hour\")\n",
        "plt.xlabel(\"Hour of Day\")\n",
        "plt.ylabel(\"Count\")\n",
        "plt.show()"
      ]
    },
    {
      "cell_type": "markdown",
      "metadata": {
        "id": "Ao_kI7Jwwia5"
      },
      "source": [
        "# 3. Data Preprocessing"
      ]
    },
    {
      "cell_type": "markdown",
      "metadata": {
        "id": "kl4qFj9rwluo"
      },
      "source": [
        "**CLEANING**"
      ]
    },
    {
      "cell_type": "code",
      "execution_count": 11,
      "metadata": {
        "colab": {
          "base_uri": "https://localhost:8080/"
        },
        "id": "awM404G6yPqA",
        "outputId": "ee2acba7-9824-4272-c9a1-fe79e6d8e00d"
      },
      "outputs": [
        {
          "name": "stdout",
          "output_type": "stream",
          "text": [
            "Series([], dtype: float64)\n"
          ]
        }
      ],
      "source": [
        "# Check how much data is missing\n",
        "missing = df.isnull().sum()\n",
        "missing_percent = (missing / len(df)) * 100\n",
        "print(missing_percent[missing_percent > 0].sort_values(ascending=False))\n"
      ]
    },
    {
      "cell_type": "code",
      "execution_count": null,
      "metadata": {},
      "outputs": [],
      "source": [
        "# Drop End_Lat and End_Lng since they are mostly missing and not needed\n",
        "df = df.drop([\"End_Lat\", \"End_Lng\"], axis=1)"
      ]
    },
    {
      "cell_type": "code",
      "execution_count": 13,
      "metadata": {
        "id": "hhLz3e_3WAJu"
      },
      "outputs": [],
      "source": [
        "# Drop all US-specific columns and unused metadata\n",
        "drop_us_cols = [\n",
        "    'City', 'County', 'Timezone', 'State', 'Zipcode', 'Country',\n",
        "    'Street', 'Number', 'End_Time', 'Airport_Code', 'Description',\n",
        "    'ID', 'Source'\n",
        "]\n",
        "\n",
        "# Drop only if they exist in the DataFrame\n",
        "df.drop(columns=[col for col in drop_us_cols if col in df.columns], inplace=True)"
      ]
    },
    {
      "cell_type": "code",
      "execution_count": null,
      "metadata": {
        "id": "-EReHRmkw5Ox"
      },
      "outputs": [],
      "source": [
        "# Remove incorrect/incomplete data\n",
        "df.dropna(subset=['Start_Time', 'Severity'], inplace=True)\n"
      ]
    },
    {
      "cell_type": "code",
      "execution_count": 15,
      "metadata": {
        "id": "nivG13vAyq7J"
      },
      "outputs": [],
      "source": [
        "# Numeric: fill with median\n",
        "num_cols = df.select_dtypes(include=['float64', 'int64']).columns\n",
        "for col in num_cols:\n",
        "    df[col] = df[col].fillna(df[col].median())\n",
        "\n",
        "# Categorical: fill with mode\n",
        "cat_cols = df.select_dtypes(include=['object']).columns\n",
        "for col in cat_cols:\n",
        "    df[col] = df[col].fillna(df[col].mode()[0])"
      ]
    },
    {
      "cell_type": "code",
      "execution_count": 16,
      "metadata": {
        "id": "nEYEw8672ke5"
      },
      "outputs": [],
      "source": [
        "#Apply binning (mean/median smoothing)\n",
        "df['Temp_Binned'] = pd.cut(df['Temperature(F)'],\n",
        "                           bins=[-10, 50, 70, 90, 120],\n",
        "                           labels=['Very Cold', 'Cold', 'Warm', 'Hot'])\n",
        "\n"
      ]
    },
    {
      "cell_type": "markdown",
      "metadata": {
        "id": "ok3bP2UwPVRL"
      },
      "source": [
        "**REDUCTION**"
      ]
    },
    {
      "cell_type": "code",
      "execution_count": 17,
      "metadata": {
        "id": "1rALkX8TPjsr"
      },
      "outputs": [],
      "source": [
        "#Attribute subset selection.\n",
        "#Remove columns irrelevant to Sri Lankan context\n",
        "drop_cols = ['ID', 'Source', 'Description', 'End_Time', 'Street',\n",
        "             'Zipcode', 'Airport_Code', 'Country', 'State', 'Number']\n",
        "\n",
        "df.drop(columns=[col for col in drop_cols if col in df.columns], inplace=True)\n"
      ]
    },
    {
      "cell_type": "markdown",
      "metadata": {
        "id": "dNnlrY9qP_7K"
      },
      "source": [
        "**TRANSFORMATION**"
      ]
    },
    {
      "cell_type": "code",
      "execution_count": 18,
      "metadata": {
        "id": "5nF7UOoHQKwL"
      },
      "outputs": [],
      "source": [
        "# a.Normalize Data\n",
        "from sklearn.preprocessing import MinMaxScaler\n",
        "\n",
        "scale_cols = ['Temperature(F)', 'Humidity(%)', 'Visibility(mi)', 'Pressure(in)', 'Wind_Speed(mph)']\n",
        "scaler = MinMaxScaler()\n",
        "df[scale_cols] = scaler.fit_transform(df[scale_cols])\n"
      ]
    },
    {
      "cell_type": "code",
      "execution_count": 19,
      "metadata": {
        "id": "ABi1YDK-QRcy"
      },
      "outputs": [],
      "source": [
        "# b.Feature Engineering (Sri Lanka–specific)\n",
        "df['Start_Time'] = pd.to_datetime(df['Start_Time'])\n",
        "\n",
        "df['Hour'] = df['Start_Time'].dt.hour\n",
        "df['Weekday'] = df['Start_Time'].dt.weekday\n",
        "df['Is_Weekend'] = df['Weekday'].apply(lambda x: 1 if x >= 5 else 0)\n",
        "\n",
        "# Rush hour in Sri Lanka: 6–9 AM and 4–7 PM\n",
        "df['Rush_Hour_SL'] = df['Hour'].apply(lambda x: 1 if (6 <= x <= 9 or 16 <= x <= 19) else 0)\n"
      ]
    },
    {
      "cell_type": "code",
      "execution_count": 20,
      "metadata": {
        "id": "k62B6DrbQghq"
      },
      "outputs": [],
      "source": [
        "# c.Discretization\n",
        "df['Time_Category_SL'] = pd.cut(df['Hour'],\n",
        "                                 bins=[-1, 6, 12, 18, 24],\n",
        "                                 labels=['Night', 'Morning', 'Afternoon', 'Evening'])\n",
        "\n",
        "\n"
      ]
    },
    {
      "cell_type": "code",
      "execution_count": 21,
      "metadata": {
        "id": "3gbWjMVEQolS"
      },
      "outputs": [],
      "source": [
        "# d.Concept Hierarchy Generation (Sri Lanka Context)\n",
        "# Road Type hierarchy (simulate with visibility)\n",
        "df['Road_Type_SL'] = df['Visibility(mi)'].apply(lambda x: 'Highway' if x > 1.5 else 'Urban')\n",
        "\n",
        "# Simplified weather categories\n",
        "def simplify_weather_sl(condition):\n",
        "    if 'Rain' in condition: return 'Rain'\n",
        "    elif 'Clear' in condition: return 'Clear'\n",
        "    elif 'Fog' in condition or 'Mist' in condition: return 'Fog'\n",
        "    elif 'Cloud' in condition: return 'Cloudy'\n",
        "    else: return 'Other'\n",
        "\n",
        "df['Weather_Category_SL'] = df['Weather_Condition'].apply(simplify_weather_sl)\n"
      ]
    },
    {
      "cell_type": "code",
      "execution_count": 22,
      "metadata": {
        "colab": {
          "base_uri": "https://localhost:8080/",
          "height": 377
        },
        "id": "UHHdoXYDQzM5",
        "outputId": "679b5b94-59c6-49ca-ae51-e92527735329"
      },
      "outputs": [
        {
          "name": "stdout",
          "output_type": "stream",
          "text": [
            "Final cleaned shape: (10000, 40)\n",
            "Final columns: ['Severity', 'Start_Time', 'Start_Lat', 'Start_Lng', 'Distance(mi)', 'Weather_Timestamp', 'Temperature(F)', 'Wind_Chill(F)', 'Humidity(%)', 'Pressure(in)', 'Visibility(mi)', 'Wind_Direction', 'Wind_Speed(mph)', 'Precipitation(in)', 'Weather_Condition', 'Amenity', 'Bump', 'Crossing', 'Give_Way', 'Junction', 'No_Exit', 'Railway', 'Roundabout', 'Station', 'Stop', 'Traffic_Calming', 'Traffic_Signal', 'Turning_Loop', 'Sunrise_Sunset', 'Civil_Twilight', 'Nautical_Twilight', 'Astronomical_Twilight', 'Temp_Binned', 'Hour', 'Weekday', 'Is_Weekend', 'Rush_Hour_SL', 'Time_Category_SL', 'Road_Type_SL', 'Weather_Category_SL']\n"
          ]
        },
        {
          "data": {
            "text/html": [
              "<div>\n",
              "<style scoped>\n",
              "    .dataframe tbody tr th:only-of-type {\n",
              "        vertical-align: middle;\n",
              "    }\n",
              "\n",
              "    .dataframe tbody tr th {\n",
              "        vertical-align: top;\n",
              "    }\n",
              "\n",
              "    .dataframe thead th {\n",
              "        text-align: right;\n",
              "    }\n",
              "</style>\n",
              "<table border=\"1\" class=\"dataframe\">\n",
              "  <thead>\n",
              "    <tr style=\"text-align: right;\">\n",
              "      <th></th>\n",
              "      <th>Severity</th>\n",
              "      <th>Start_Time</th>\n",
              "      <th>Start_Lat</th>\n",
              "      <th>Start_Lng</th>\n",
              "      <th>Distance(mi)</th>\n",
              "      <th>Weather_Timestamp</th>\n",
              "      <th>Temperature(F)</th>\n",
              "      <th>Wind_Chill(F)</th>\n",
              "      <th>Humidity(%)</th>\n",
              "      <th>Pressure(in)</th>\n",
              "      <th>...</th>\n",
              "      <th>Nautical_Twilight</th>\n",
              "      <th>Astronomical_Twilight</th>\n",
              "      <th>Temp_Binned</th>\n",
              "      <th>Hour</th>\n",
              "      <th>Weekday</th>\n",
              "      <th>Is_Weekend</th>\n",
              "      <th>Rush_Hour_SL</th>\n",
              "      <th>Time_Category_SL</th>\n",
              "      <th>Road_Type_SL</th>\n",
              "      <th>Weather_Category_SL</th>\n",
              "    </tr>\n",
              "  </thead>\n",
              "  <tbody>\n",
              "    <tr>\n",
              "      <th>0</th>\n",
              "      <td>3</td>\n",
              "      <td>2016-02-08 05:46:00</td>\n",
              "      <td>39.865147</td>\n",
              "      <td>-84.058723</td>\n",
              "      <td>0.01</td>\n",
              "      <td>2016-02-08 05:58:00</td>\n",
              "      <td>0.323213</td>\n",
              "      <td>36.4</td>\n",
              "      <td>0.902174</td>\n",
              "      <td>0.965954</td>\n",
              "      <td>...</td>\n",
              "      <td>Night</td>\n",
              "      <td>Night</td>\n",
              "      <td>Very Cold</td>\n",
              "      <td>5</td>\n",
              "      <td>0</td>\n",
              "      <td>0</td>\n",
              "      <td>0</td>\n",
              "      <td>Night</td>\n",
              "      <td>Urban</td>\n",
              "      <td>Rain</td>\n",
              "    </tr>\n",
              "    <tr>\n",
              "      <th>1</th>\n",
              "      <td>2</td>\n",
              "      <td>2016-02-08 06:07:59</td>\n",
              "      <td>39.928059</td>\n",
              "      <td>-82.831184</td>\n",
              "      <td>0.01</td>\n",
              "      <td>2016-02-08 05:51:00</td>\n",
              "      <td>0.333007</td>\n",
              "      <td>36.4</td>\n",
              "      <td>1.000000</td>\n",
              "      <td>0.964868</td>\n",
              "      <td>...</td>\n",
              "      <td>Night</td>\n",
              "      <td>Day</td>\n",
              "      <td>Very Cold</td>\n",
              "      <td>6</td>\n",
              "      <td>0</td>\n",
              "      <td>0</td>\n",
              "      <td>1</td>\n",
              "      <td>Night</td>\n",
              "      <td>Urban</td>\n",
              "      <td>Rain</td>\n",
              "    </tr>\n",
              "    <tr>\n",
              "      <th>2</th>\n",
              "      <td>2</td>\n",
              "      <td>2016-02-08 06:49:27</td>\n",
              "      <td>39.063148</td>\n",
              "      <td>-84.032608</td>\n",
              "      <td>0.01</td>\n",
              "      <td>2016-02-08 06:56:00</td>\n",
              "      <td>0.314398</td>\n",
              "      <td>33.3</td>\n",
              "      <td>1.000000</td>\n",
              "      <td>0.965592</td>\n",
              "      <td>...</td>\n",
              "      <td>Day</td>\n",
              "      <td>Day</td>\n",
              "      <td>Very Cold</td>\n",
              "      <td>6</td>\n",
              "      <td>0</td>\n",
              "      <td>0</td>\n",
              "      <td>1</td>\n",
              "      <td>Night</td>\n",
              "      <td>Urban</td>\n",
              "      <td>Other</td>\n",
              "    </tr>\n",
              "    <tr>\n",
              "      <th>3</th>\n",
              "      <td>3</td>\n",
              "      <td>2016-02-08 07:23:34</td>\n",
              "      <td>39.747753</td>\n",
              "      <td>-84.205582</td>\n",
              "      <td>0.01</td>\n",
              "      <td>2016-02-08 07:38:00</td>\n",
              "      <td>0.305583</td>\n",
              "      <td>31.0</td>\n",
              "      <td>0.956522</td>\n",
              "      <td>0.964506</td>\n",
              "      <td>...</td>\n",
              "      <td>Day</td>\n",
              "      <td>Day</td>\n",
              "      <td>Very Cold</td>\n",
              "      <td>7</td>\n",
              "      <td>0</td>\n",
              "      <td>0</td>\n",
              "      <td>1</td>\n",
              "      <td>Morning</td>\n",
              "      <td>Urban</td>\n",
              "      <td>Cloudy</td>\n",
              "    </tr>\n",
              "    <tr>\n",
              "      <th>4</th>\n",
              "      <td>2</td>\n",
              "      <td>2016-02-08 07:39:07</td>\n",
              "      <td>39.627781</td>\n",
              "      <td>-84.188354</td>\n",
              "      <td>0.01</td>\n",
              "      <td>2016-02-08 07:53:00</td>\n",
              "      <td>0.314398</td>\n",
              "      <td>33.3</td>\n",
              "      <td>0.880435</td>\n",
              "      <td>0.964868</td>\n",
              "      <td>...</td>\n",
              "      <td>Day</td>\n",
              "      <td>Day</td>\n",
              "      <td>Very Cold</td>\n",
              "      <td>7</td>\n",
              "      <td>0</td>\n",
              "      <td>0</td>\n",
              "      <td>1</td>\n",
              "      <td>Morning</td>\n",
              "      <td>Urban</td>\n",
              "      <td>Cloudy</td>\n",
              "    </tr>\n",
              "  </tbody>\n",
              "</table>\n",
              "<p>5 rows × 40 columns</p>\n",
              "</div>"
            ],
            "text/plain": [
              "   Severity          Start_Time  Start_Lat  Start_Lng  Distance(mi)  \\\n",
              "0         3 2016-02-08 05:46:00  39.865147 -84.058723          0.01   \n",
              "1         2 2016-02-08 06:07:59  39.928059 -82.831184          0.01   \n",
              "2         2 2016-02-08 06:49:27  39.063148 -84.032608          0.01   \n",
              "3         3 2016-02-08 07:23:34  39.747753 -84.205582          0.01   \n",
              "4         2 2016-02-08 07:39:07  39.627781 -84.188354          0.01   \n",
              "\n",
              "     Weather_Timestamp  Temperature(F)  Wind_Chill(F)  Humidity(%)  \\\n",
              "0  2016-02-08 05:58:00        0.323213           36.4     0.902174   \n",
              "1  2016-02-08 05:51:00        0.333007           36.4     1.000000   \n",
              "2  2016-02-08 06:56:00        0.314398           33.3     1.000000   \n",
              "3  2016-02-08 07:38:00        0.305583           31.0     0.956522   \n",
              "4  2016-02-08 07:53:00        0.314398           33.3     0.880435   \n",
              "\n",
              "   Pressure(in)  ...  Nautical_Twilight Astronomical_Twilight  Temp_Binned  \\\n",
              "0      0.965954  ...              Night                 Night    Very Cold   \n",
              "1      0.964868  ...              Night                   Day    Very Cold   \n",
              "2      0.965592  ...                Day                   Day    Very Cold   \n",
              "3      0.964506  ...                Day                   Day    Very Cold   \n",
              "4      0.964868  ...                Day                   Day    Very Cold   \n",
              "\n",
              "   Hour Weekday  Is_Weekend  Rush_Hour_SL  Time_Category_SL  Road_Type_SL  \\\n",
              "0     5       0           0             0             Night         Urban   \n",
              "1     6       0           0             1             Night         Urban   \n",
              "2     6       0           0             1             Night         Urban   \n",
              "3     7       0           0             1           Morning         Urban   \n",
              "4     7       0           0             1           Morning         Urban   \n",
              "\n",
              "   Weather_Category_SL  \n",
              "0                 Rain  \n",
              "1                 Rain  \n",
              "2                Other  \n",
              "3               Cloudy  \n",
              "4               Cloudy  \n",
              "\n",
              "[5 rows x 40 columns]"
            ]
          },
          "execution_count": 22,
          "metadata": {},
          "output_type": "execute_result"
        }
      ],
      "source": [
        "# Preview the final shape and columns\n",
        "print(\"Final cleaned shape:\", df.shape)\n",
        "print(\"Final columns:\", df.columns.tolist())\n",
        "df.head()"
      ]
    },
    {
      "cell_type": "code",
      "execution_count": 23,
      "metadata": {
        "colab": {
          "base_uri": "https://localhost:8080/"
        },
        "id": "OXbMMrb3ZtMs",
        "outputId": "2892c259-56c7-41cf-e156-d84083daebe5"
      },
      "outputs": [
        {
          "name": "stdout",
          "output_type": "stream",
          "text": [
            "Dataset saved as 'cleaned_accident_data_SL.csv'\n"
          ]
        }
      ],
      "source": [
        "# Save your cleaned dataset to CSV\n",
        "df.to_csv('cleaned_accident_data_SL.csv', index=False)\n",
        "\n",
        "print(\"Dataset saved as 'cleaned_accident_data_SL.csv'\")\n"
      ]
    },
    {
      "cell_type": "markdown",
      "metadata": {
        "id": "Bg2fNfa9iitI"
      },
      "source": [
        "# 4. Data Mining & Machine Learning"
      ]
    },
    {
      "cell_type": "markdown",
      "metadata": {
        "id": "d5iM3RyipX3r"
      },
      "source": [
        "Libraries and uses:\n",
        "\n",
        "Data handling - pandas, numpy\n",
        "\n",
        "Model building - scikit-learn\n",
        "\n",
        "Evaluation - metrics from scikit-learn\n",
        "\n",
        "Visualization - matplotlib"
      ]
    },
    {
      "cell_type": "code",
      "execution_count": 24,
      "metadata": {
        "id": "Td6KnC-gixkp"
      },
      "outputs": [],
      "source": [
        "import pandas as pd\n",
        "import numpy as np\n",
        "from sklearn.model_selection import train_test_split\n",
        "from sklearn.preprocessing import LabelEncoder\n",
        "from sklearn.tree import DecisionTreeClassifier\n",
        "from sklearn.ensemble import RandomForestClassifier, GradientBoostingClassifier\n",
        "from sklearn.metrics import accuracy_score, classification_report, confusion_matrix\n",
        "import matplotlib.pyplot as plt\n",
        "import seaborn as sns\n",
        "\n",
        "# Load cleaned Sri Lanka dataset\n",
        "df = pd.read_csv('cleaned_accident_data_SL.csv')"
      ]
    },
    {
      "cell_type": "markdown",
      "metadata": {
        "id": "0OzVEHdxSf4c"
      },
      "source": [
        "Goal in this part is predict Severity in levels 1-3 from geo-temporal, weather, and road features."
      ]
    },
    {
      "cell_type": "markdown",
      "metadata": {
        "id": "dPYKuTOGTH2A"
      },
      "source": [
        "**Handle Categorical Variables**"
      ]
    },
    {
      "cell_type": "code",
      "execution_count": 25,
      "metadata": {
        "id": "Ra8pmtF5TXOD"
      },
      "outputs": [],
      "source": [
        "# Handle categorical variables\n",
        "cat_cols = df.select_dtypes(include=['object']).columns.tolist()\n",
        "\n",
        "# Remove datetime columns from encoding (kept as reference, not model input)\n",
        "if 'Start_Time' in cat_cols:\n",
        "    cat_cols.remove('Start_Time')\n",
        "if 'Weather_Timestamp' in cat_cols:\n",
        "    cat_cols.remove('Weather_Timestamp')\n",
        "\n",
        "# Encode categorical variables\n",
        "le = LabelEncoder()\n",
        "for col in cat_cols:\n",
        "    df[col] = le.fit_transform(df[col])"
      ]
    },
    {
      "cell_type": "markdown",
      "metadata": {
        "id": "LB2BtWJbhL07"
      },
      "source": [
        "**Define Features & Target**"
      ]
    },
    {
      "cell_type": "code",
      "execution_count": 26,
      "metadata": {
        "id": "6pvWs_HSh7Gd"
      },
      "outputs": [],
      "source": [
        "X = df.drop(\"Severity\", axis=1)  # Features\n",
        "y = df[\"Severity\"]               # Target"
      ]
    },
    {
      "cell_type": "markdown",
      "metadata": {
        "id": "KbK7-HKTiBnh"
      },
      "source": [
        "**Train-Test Split**"
      ]
    },
    {
      "cell_type": "code",
      "execution_count": 27,
      "metadata": {
        "id": "HaYGuBMmiFfG"
      },
      "outputs": [],
      "source": [
        "#Train-Test Split\n",
        "X_train, X_test, y_train, y_test = train_test_split(\n",
        "    X, y, test_size=0.2, random_state=42, stratify=y\n",
        ")"
      ]
    },
    {
      "cell_type": "markdown",
      "metadata": {
        "id": "5LpWoV2qiUXI"
      },
      "source": [
        "test_size=0.2 - 80% train, 20% test.\n",
        "\n",
        "stratify=y - Keeps severity class proportions the same in train and test."
      ]
    },
    {
      "cell_type": "markdown",
      "metadata": {
        "id": "VU-Pp1YUior9"
      },
      "source": [
        "**Feature Scaling**"
      ]
    },
    {
      "cell_type": "code",
      "execution_count": 28,
      "metadata": {
        "id": "UsJHgqZQqCHa"
      },
      "outputs": [],
      "source": [
        "# Select only numeric columns for models\n",
        "numeric_cols = X_train.select_dtypes(include=['int64', 'float64']).columns\n",
        "\n",
        "# Fill NaNs in numeric columns with median\n",
        "X_train_num = X_train[numeric_cols].fillna(X_train[numeric_cols].median())\n",
        "X_test_num  = X_test[numeric_cols].fillna(X_train[numeric_cols].median())"
      ]
    },
    {
      "cell_type": "markdown",
      "metadata": {
        "id": "NHqkcrlKjrmQ"
      },
      "source": [
        "**Train Multiple Models**\n",
        "\n",
        "In this, we'll train 3 models for comparison:\n",
        "\n",
        "\n",
        "\n",
        "1. Decision Tree (simple & interpretable)\n",
        "2. Random Forest (robust & powerful)\n",
        "3. Gradient Boosting (simple)\n",
        "\n"
      ]
    },
    {
      "cell_type": "code",
      "execution_count": 29,
      "metadata": {
        "id": "EbCjBVqosb8j"
      },
      "outputs": [],
      "source": [
        "# Ensure *all* columns have no NaNs after encoding\n",
        "X_train = X_train.fillna(0)\n",
        "X_test = X_test.fillna(0)\n",
        "\n",
        "# For numeric subset (used for Gradient Boosting & all models)\n",
        "X_train_num = X_train.select_dtypes(include=['int64', 'float64'])\n",
        "X_test_num = X_test.select_dtypes(include=['int64', 'float64'])"
      ]
    },
    {
      "cell_type": "code",
      "execution_count": 30,
      "metadata": {
        "colab": {
          "base_uri": "https://localhost:8080/"
        },
        "id": "L9P3AQKJjQFs",
        "outputId": "2354b63c-7bfc-418a-e834-ab21a0ba6e27"
      },
      "outputs": [
        {
          "name": "stdout",
          "output_type": "stream",
          "text": [
            "\n",
            " Decision Tree\n",
            "              precision    recall  f1-score   support\n",
            "\n",
            "           1       0.00      0.00      0.00         1\n",
            "           2       0.89      0.88      0.88      1210\n",
            "           3       0.82      0.83      0.83       788\n",
            "           4       0.00      0.00      0.00         1\n",
            "\n",
            "    accuracy                           0.86      2000\n",
            "   macro avg       0.43      0.43      0.43      2000\n",
            "weighted avg       0.86      0.86      0.86      2000\n",
            "\n"
          ]
        },
        {
          "name": "stderr",
          "output_type": "stream",
          "text": [
            "d:\\Anaconda\\envs\\aif_env\\Lib\\site-packages\\sklearn\\metrics\\_classification.py:1731: UndefinedMetricWarning: Precision is ill-defined and being set to 0.0 in labels with no predicted samples. Use `zero_division` parameter to control this behavior.\n",
            "  _warn_prf(average, modifier, f\"{metric.capitalize()} is\", result.shape[0])\n",
            "d:\\Anaconda\\envs\\aif_env\\Lib\\site-packages\\sklearn\\metrics\\_classification.py:1731: UndefinedMetricWarning: Precision is ill-defined and being set to 0.0 in labels with no predicted samples. Use `zero_division` parameter to control this behavior.\n",
            "  _warn_prf(average, modifier, f\"{metric.capitalize()} is\", result.shape[0])\n",
            "d:\\Anaconda\\envs\\aif_env\\Lib\\site-packages\\sklearn\\metrics\\_classification.py:1731: UndefinedMetricWarning: Precision is ill-defined and being set to 0.0 in labels with no predicted samples. Use `zero_division` parameter to control this behavior.\n",
            "  _warn_prf(average, modifier, f\"{metric.capitalize()} is\", result.shape[0])\n"
          ]
        },
        {
          "name": "stdout",
          "output_type": "stream",
          "text": [
            "\n",
            " Random Forest\n",
            "              precision    recall  f1-score   support\n",
            "\n",
            "           1       0.00      0.00      0.00         1\n",
            "           2       0.81      0.84      0.82      1210\n",
            "           3       0.73      0.69      0.71       788\n",
            "           4       0.00      0.00      0.00         1\n",
            "\n",
            "    accuracy                           0.78      2000\n",
            "   macro avg       0.38      0.38      0.38      2000\n",
            "weighted avg       0.78      0.78      0.78      2000\n",
            "\n"
          ]
        },
        {
          "name": "stderr",
          "output_type": "stream",
          "text": [
            "d:\\Anaconda\\envs\\aif_env\\Lib\\site-packages\\sklearn\\metrics\\_classification.py:1731: UndefinedMetricWarning: Precision is ill-defined and being set to 0.0 in labels with no predicted samples. Use `zero_division` parameter to control this behavior.\n",
            "  _warn_prf(average, modifier, f\"{metric.capitalize()} is\", result.shape[0])\n",
            "d:\\Anaconda\\envs\\aif_env\\Lib\\site-packages\\sklearn\\metrics\\_classification.py:1731: UndefinedMetricWarning: Precision is ill-defined and being set to 0.0 in labels with no predicted samples. Use `zero_division` parameter to control this behavior.\n",
            "  _warn_prf(average, modifier, f\"{metric.capitalize()} is\", result.shape[0])\n",
            "d:\\Anaconda\\envs\\aif_env\\Lib\\site-packages\\sklearn\\metrics\\_classification.py:1731: UndefinedMetricWarning: Precision is ill-defined and being set to 0.0 in labels with no predicted samples. Use `zero_division` parameter to control this behavior.\n",
            "  _warn_prf(average, modifier, f\"{metric.capitalize()} is\", result.shape[0])\n"
          ]
        },
        {
          "name": "stdout",
          "output_type": "stream",
          "text": [
            "\n",
            " Gradient Boosting\n",
            "              precision    recall  f1-score   support\n",
            "\n",
            "           1       0.00      0.00      0.00         1\n",
            "           2       0.87      0.86      0.87      1210\n",
            "           3       0.79      0.80      0.80       788\n",
            "           4       0.00      0.00      0.00         1\n",
            "\n",
            "    accuracy                           0.84      2000\n",
            "   macro avg       0.41      0.42      0.42      2000\n",
            "weighted avg       0.84      0.84      0.84      2000\n",
            "\n"
          ]
        },
        {
          "name": "stderr",
          "output_type": "stream",
          "text": [
            "d:\\Anaconda\\envs\\aif_env\\Lib\\site-packages\\sklearn\\metrics\\_classification.py:1731: UndefinedMetricWarning: Precision is ill-defined and being set to 0.0 in labels with no predicted samples. Use `zero_division` parameter to control this behavior.\n",
            "  _warn_prf(average, modifier, f\"{metric.capitalize()} is\", result.shape[0])\n",
            "d:\\Anaconda\\envs\\aif_env\\Lib\\site-packages\\sklearn\\metrics\\_classification.py:1731: UndefinedMetricWarning: Precision is ill-defined and being set to 0.0 in labels with no predicted samples. Use `zero_division` parameter to control this behavior.\n",
            "  _warn_prf(average, modifier, f\"{metric.capitalize()} is\", result.shape[0])\n",
            "d:\\Anaconda\\envs\\aif_env\\Lib\\site-packages\\sklearn\\metrics\\_classification.py:1731: UndefinedMetricWarning: Precision is ill-defined and being set to 0.0 in labels with no predicted samples. Use `zero_division` parameter to control this behavior.\n",
            "  _warn_prf(average, modifier, f\"{metric.capitalize()} is\", result.shape[0])\n"
          ]
        }
      ],
      "source": [
        "# Initialize models\n",
        "models = {\n",
        "    \"Decision Tree\": DecisionTreeClassifier(random_state=42),\n",
        "    \"Random Forest\": RandomForestClassifier(n_estimators=100, random_state=42),\n",
        "    \"Gradient Boosting\": GradientBoostingClassifier(n_estimators=100, random_state=42)\n",
        "}\n",
        "\n",
        "\n",
        "# Train & Evaluate\n",
        "results = []\n",
        "for name, model in models.items():\n",
        "    model.fit(X_train_num, y_train)\n",
        "    y_pred = model.predict(X_test_num)\n",
        "\n",
        "    acc = accuracy_score(y_test, y_pred)\n",
        "    results.append({\"Model\": name, \"Accuracy\": acc})\n",
        "\n",
        "    print(f\"\\n {name}\")\n",
        "    print(classification_report(y_test, y_pred))\n",
        "\n"
      ]
    },
    {
      "cell_type": "markdown",
      "metadata": {
        "id": "b_VW1PFRvO3I"
      },
      "source": [
        "**Try different parameter settings**"
      ]
    },
    {
      "cell_type": "code",
      "execution_count": 31,
      "metadata": {
        "colab": {
          "base_uri": "https://localhost:8080/"
        },
        "id": "BJEaK_iRvNM8",
        "outputId": "1f451a18-0eb2-494a-e311-6600ef52ec46"
      },
      "outputs": [
        {
          "name": "stdout",
          "output_type": "stream",
          "text": [
            "Tuned Random Forest Accuracy: 0.7825\n"
          ]
        }
      ],
      "source": [
        "# Tuned Random Forest\n",
        "rf_model = RandomForestClassifier(\n",
        "    n_estimators=200,\n",
        "    max_depth=None,\n",
        "    min_samples_split=2,\n",
        "    min_samples_leaf=1,\n",
        "    random_state=42\n",
        ")\n",
        "\n",
        "# Train the tuned Random Forest\n",
        "rf_model.fit(X_train_num, y_train)\n",
        "\n",
        "# Predict & Evaluate\n",
        "y_pred_rf = rf_model.predict(X_test_num)\n",
        "acc_rf = accuracy_score(y_test, y_pred_rf)\n",
        "\n",
        "print(f\"Tuned Random Forest Accuracy: {acc_rf:.4f}\")\n"
      ]
    },
    {
      "cell_type": "markdown",
      "metadata": {
        "id": "Xv-JXIsRq_GC"
      },
      "source": [
        "**Compare Models**\n",
        "\n",
        "\n"
      ]
    },
    {
      "cell_type": "code",
      "execution_count": 32,
      "metadata": {
        "colab": {
          "base_uri": "https://localhost:8080/"
        },
        "id": "6Rp7xe-MrOjk",
        "outputId": "9d35c940-e0db-4d6e-cc3e-dc4bf4dc58c7"
      },
      "outputs": [
        {
          "name": "stdout",
          "output_type": "stream",
          "text": [
            "\n",
            " Model Comparison:\n",
            "               Model  Accuracy\n",
            "0      Decision Tree    0.8605\n",
            "1      Random Forest    0.7790\n",
            "2  Gradient Boosting    0.8370\n"
          ]
        }
      ],
      "source": [
        "#Compare model accuracies\n",
        "\n",
        "results_df = pd.DataFrame(results)\n",
        "print(\"\\n Model Comparison:\")\n",
        "print(results_df)"
      ]
    },
    {
      "cell_type": "code",
      "execution_count": 33,
      "metadata": {
        "colab": {
          "base_uri": "https://localhost:8080/"
        },
        "id": "dJ_uW90trXNs",
        "outputId": "b92a3bd2-ae7e-418c-a2b3-9fc858edb3b5"
      },
      "outputs": [
        {
          "name": "stdout",
          "output_type": "stream",
          "text": [
            "\n",
            " Best Model: Decision Tree\n"
          ]
        }
      ],
      "source": [
        "# Select best model\n",
        "best_model_name = results_df.sort_values(by=\"Accuracy\", ascending=False).iloc[0][\"Model\"]\n",
        "print(f\"\\n Best Model: {best_model_name}\")"
      ]
    },
    {
      "cell_type": "markdown",
      "metadata": {
        "id": "P0dMs0UiyUpL"
      },
      "source": [
        "# 5. Evaluation & Interpretation"
      ]
    },
    {
      "cell_type": "markdown",
      "metadata": {
        "id": "SjCxlMys5Tdk"
      },
      "source": [
        "**Results: Present findings clearly**"
      ]
    },
    {
      "cell_type": "code",
      "execution_count": 34,
      "metadata": {
        "colab": {
          "base_uri": "https://localhost:8080/",
          "height": 812
        },
        "id": "ctzBUFZL5aW-",
        "outputId": "120cffef-e172-4309-f454-5e4a5054de69"
      },
      "outputs": [
        {
          "name": "stdout",
          "output_type": "stream",
          "text": [
            "\n",
            "Best Model Selected: Decision Tree\n",
            "Accuracy: 0.8605\n",
            "\n",
            "Classification Report:\n",
            "              precision    recall  f1-score   support\n",
            "\n",
            "           1       0.00      0.00      0.00         1\n",
            "           2       0.89      0.88      0.88      1210\n",
            "           3       0.82      0.83      0.83       788\n",
            "           4       0.00      0.00      0.00         1\n",
            "\n",
            "    accuracy                           0.86      2000\n",
            "   macro avg       0.43      0.43      0.43      2000\n",
            "weighted avg       0.86      0.86      0.86      2000\n",
            "\n"
          ]
        },
        {
          "name": "stderr",
          "output_type": "stream",
          "text": [
            "d:\\Anaconda\\envs\\aif_env\\Lib\\site-packages\\sklearn\\metrics\\_classification.py:1731: UndefinedMetricWarning: Precision is ill-defined and being set to 0.0 in labels with no predicted samples. Use `zero_division` parameter to control this behavior.\n",
            "  _warn_prf(average, modifier, f\"{metric.capitalize()} is\", result.shape[0])\n",
            "d:\\Anaconda\\envs\\aif_env\\Lib\\site-packages\\sklearn\\metrics\\_classification.py:1731: UndefinedMetricWarning: Precision is ill-defined and being set to 0.0 in labels with no predicted samples. Use `zero_division` parameter to control this behavior.\n",
            "  _warn_prf(average, modifier, f\"{metric.capitalize()} is\", result.shape[0])\n",
            "d:\\Anaconda\\envs\\aif_env\\Lib\\site-packages\\sklearn\\metrics\\_classification.py:1731: UndefinedMetricWarning: Precision is ill-defined and being set to 0.0 in labels with no predicted samples. Use `zero_division` parameter to control this behavior.\n",
            "  _warn_prf(average, modifier, f\"{metric.capitalize()} is\", result.shape[0])\n"
          ]
        },
        {
          "data": {
            "image/png": "[encoded data removed]",
            "text/plain": [
              "<Figure size 500x400 with 2 Axes>"
            ]
          },
          "metadata": {},
          "output_type": "display_data"
        }
      ],
      "source": [
        "from sklearn.metrics import accuracy_score, classification_report, confusion_matrix\n",
        "import matplotlib.pyplot as plt\n",
        "import seaborn as sns\n",
        "\n",
        "# Define and train the models\n",
        "tree_model = DecisionTreeClassifier(random_state=42)\n",
        "rf_model = RandomForestClassifier(n_estimators=200, max_depth=None, min_samples_split=2, min_samples_leaf=1, random_state=42)\n",
        "gb_model = GradientBoostingClassifier(n_estimators=100, random_state=42)\n",
        "\n",
        "tree_model.fit(X_train_num, y_train)\n",
        "rf_model.fit(X_train_num, y_train)\n",
        "gb_model.fit(X_train_num, y_train)\n",
        "\n",
        "trained_models = {\n",
        "    \"Decision Tree\": tree_model,\n",
        "    \"Random Forest\": rf_model,\n",
        "    \"Gradient Boosting\": gb_model\n",
        "}\n",
        "\n",
        "best_model_name = results_df.sort_values(by=\"Accuracy\", ascending=False).iloc[0][\"Model\"]\n",
        "best_model = trained_models[best_model_name]\n",
        "\n",
        "print(f\"\\nBest Model Selected: {best_model_name}\")\n",
        "\n",
        "# Predictions\n",
        "y_pred = best_model.predict(X_test_num)\n",
        "\n",
        "# Accuracy & Report\n",
        "print(\"Accuracy:\", accuracy_score(y_test, y_pred))\n",
        "print(\"\\nClassification Report:\")\n",
        "print(classification_report(y_test, y_pred))\n",
        "\n",
        "# Confusion Matrix\n",
        "cm = confusion_matrix(y_test, y_pred)\n",
        "plt.figure(figsize=(5,4))\n",
        "sns.heatmap(cm, annot=True, fmt=\"d\", cmap=\"Blues\",\n",
        "            xticklabels=[\"Low\", \"Medium\", \"High\"],\n",
        "            yticklabels=[\"Low\", \"Medium\", \"High\"])\n",
        "plt.xlabel(\"Predicted\")\n",
        "plt.ylabel(\"Actual\")\n",
        "plt.title(f\"Confusion Matrix - {best_model_name}\")\n",
        "plt.show()"
      ]
    },
    {
      "cell_type": "markdown",
      "metadata": {
        "id": "hUTpg96b6EeO"
      },
      "source": [
        "**Cross-Validation (Reliability Check)**"
      ]
    },
    {
      "cell_type": "code",
      "execution_count": 35,
      "metadata": {
        "colab": {
          "base_uri": "https://localhost:8080/"
        },
        "id": "10WBBQdw6HDW",
        "outputId": "d1cf2482-942b-4e81-f9a3-a0a0ae83af47"
      },
      "outputs": [
        {
          "name": "stdout",
          "output_type": "stream",
          "text": [
            "\n",
            "Cross-Validation Accuracy Scores: [0.84375  0.8575   0.85375  0.859375 0.845625]\n",
            "Mean CV Accuracy: 0.8520\n"
          ]
        }
      ],
      "source": [
        "from sklearn.model_selection import cross_val_score\n",
        "\n",
        "cv_scores = cross_val_score(best_model, X_train_num, y_train, cv=5, scoring='accuracy')\n",
        "print(f\"\\nCross-Validation Accuracy Scores: {cv_scores}\")\n",
        "print(f\"Mean CV Accuracy: {cv_scores.mean():.4f}\")"
      ]
    },
    {
      "cell_type": "markdown",
      "metadata": {
        "id": "X2OF0h8Q6Nhu"
      },
      "source": [
        "**Check for Overfitting vs Underfitting**"
      ]
    },
    {
      "cell_type": "code",
      "execution_count": 36,
      "metadata": {
        "colab": {
          "base_uri": "https://localhost:8080/"
        },
        "id": "aUnXwH_E6RRN",
        "outputId": "4a24f115-ba3c-46ff-dd97-2767f56a6e35"
      },
      "outputs": [
        {
          "name": "stdout",
          "output_type": "stream",
          "text": [
            "Training Accuracy: 0.9999\n",
            "Testing Accuracy: 0.8605\n",
            "Possible Overfitting\n"
          ]
        }
      ],
      "source": [
        "train_acc = accuracy_score(y_train, best_model.predict(X_train_num))\n",
        "test_acc = accuracy_score(y_test, y_pred)\n",
        "\n",
        "print(f\"Training Accuracy: {train_acc:.4f}\")\n",
        "print(f\"Testing Accuracy: {test_acc:.4f}\")\n",
        "\n",
        "if train_acc - test_acc > 0.1:\n",
        "    print(\"Possible Overfitting\")\n",
        "elif test_acc > train_acc:\n",
        "    print(\"Possible Underfitting (rare but can happen)\")\n",
        "else:\n",
        "    print(\"Model is well-generalized\")\n"
      ]
    },
    {
      "cell_type": "markdown",
      "metadata": {
        "id": "utRCcHih6lg2"
      },
      "source": [
        "**Feature Importance (only for tree-based models)**"
      ]
    },
    {
      "cell_type": "code",
      "execution_count": 37,
      "metadata": {
        "colab": {
          "base_uri": "https://localhost:8080/",
          "height": 468
        },
        "id": "UVqjs5Hm6rj1",
        "outputId": "245eaef4-5007-4e8e-d26f-0727375cc696"
      },
      "outputs": [
        {
          "data": {
            "image/png": "[encoded data removed]",
            "text/plain": [
              "<Figure size 700x500 with 1 Axes>"
            ]
          },
          "metadata": {},
          "output_type": "display_data"
        }
      ],
      "source": [
        "if best_model_name in [\"Decision Tree\", \"Random Forest\", \"Gradient Boosting\"]:\n",
        "    importances = best_model.feature_importances_\n",
        "    feat_imp = pd.Series(importances, index=X_train_num.columns).sort_values(ascending=False).head(15)\n",
        "\n",
        "    plt.figure(figsize=(7,5))\n",
        "    feat_imp.plot(kind='barh')\n",
        "    plt.title(f\"Top 15 Important Features - {best_model_name}\")\n",
        "    plt.show()"
      ]
    },
    {
      "cell_type": "markdown",
      "metadata": {
        "id": "hPbt4pUhKBRW"
      },
      "source": [
        "**Save Best Model**"
      ]
    },
    {
      "cell_type": "code",
      "execution_count": 38,
      "metadata": {
        "colab": {
          "base_uri": "https://localhost:8080/"
        },
        "id": "jEJCZAxtKHdG",
        "outputId": "3a8c2498-2ff4-44a4-e6f2-9f13999742a2"
      },
      "outputs": [
        {
          "name": "stdout",
          "output_type": "stream",
          "text": [
            "Final model saved as final_accident_severity_model.pkl\n"
          ]
        }
      ],
      "source": [
        "import joblib\n",
        "\n",
        "# Save the best model\n",
        "joblib.dump(best_model, \"final_accident_severity_model.pkl\")\n",
        "print(\"Final model saved as final_accident_severity_model.pkl\")"
      ]
    },
    {
      "cell_type": "markdown",
      "metadata": {},
      "source": [
        "final_accident_severity_model.pkl → Final trained model\n",
        "\n",
        "train_columns.pkl → the list of feature names used"
      ]
    },
    {
      "cell_type": "code",
      "execution_count": 39,
      "metadata": {},
      "outputs": [
        {
          "name": "stdout",
          "output_type": "stream",
          "text": [
            "Final model and train_columns.pkl saved successfully!\n"
          ]
        }
      ],
      "source": [
        "import pickle\n",
        "\n",
        "# Save your final model (you already did this as final_accident_severity_model.pkl)\n",
        "with open(\"final_accident_severity_model.pkl\", \"wb\") as f:\n",
        "    pickle.dump(best_model, f)\n",
        "\n",
        "# Save the feature columns used for training\n",
        "train_columns = list(X_train_num.columns)   # or X_train.columns if you didn’t filter\n",
        "with open(\"train_columns.pkl\", \"wb\") as f:\n",
        "    pickle.dump(train_columns, f)\n",
        "\n",
        "print(\"Final model and train_columns.pkl saved successfully!\")"
      ]
    },
    {
      "cell_type": "markdown",
      "metadata": {},
      "source": [
        "# 6. Deployment "
      ]
    },
    {
      "cell_type": "markdown",
      "metadata": {},
      "source": [
        "After completing the analysis and model building in this notebook, the final **Decision Tree model** has been deployed as an interactive web application using **Streamlit**.  \n",
        "\n",
        "The application allows users to:\n",
        "- Input accident conditions (location, time, weather, road parameters)\n",
        "- Predict accident severity (Low, Moderate, High, Very High)\n",
        "- Visualize model performance and accuracy\n",
        "\n",
        "You can access the deployed app here:  \n",
        "\n",
        "[**Open Accident Severity Prediction App**](https://prashoharan-accident-severity-prediction-app-c56g9f.streamlit.app/)\n"
      ]
    }
  ],
  "metadata": {
    "colab": {
      "provenance": []
    },
    "kernelspec": {
      "display_name": "aif_env",
      "language": "python",
      "name": "python3"
    },
    "language_info": {
      "codemirror_mode": {
        "name": "ipython",
        "version": 3
      },
      "file_extension": ".py",
      "mimetype": "text/x-python",
      "name": "python",
      "nbconvert_exporter": "python",
      "pygments_lexer": "ipython3",
      "version": "3.13.2"
    }
  },
  "nbformat": 4,
  "nbformat_minor": 0
}
